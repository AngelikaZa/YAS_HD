{
 "cells": [
  {
   "cell_type": "markdown",
   "id": "f3c7593d",
   "metadata": {},
   "source": [
    "#### YAS PLS spatial nulls\n",
    "\n",
    "\n",
    "- Author: A.Zarkali\n",
    "- Date last updated: 10/9/202\n",
    "- Aim: Perform PLS on empirical and spatial null models on YAS HD cohort"
   ]
  },
  {
   "cell_type": "code",
   "execution_count": 1,
   "id": "ea8a62b4",
   "metadata": {},
   "outputs": [
    {
     "name": "stderr",
     "output_type": "stream",
     "text": [
      "C:\\Users\\Angelika\\Anaconda3\\envs\\Graph\\lib\\site-packages\\outdated\\utils.py:18: OutdatedPackageWarning: The package pingouin is out of date. Your version is 0.3.11, the latest is 0.4.0.\n",
      "Set the environment variable OUTDATED_IGNORE=1 to disable these warnings.\n",
      "  **kwargs\n",
      "C:\\Users\\Angelika\\Anaconda3\\envs\\Graph\\lib\\site-packages\\outdated\\utils.py:18: OutdatedPackageWarning: The package outdated is out of date. Your version is 0.2.0, the latest is 0.2.1.\n",
      "Set the environment variable OUTDATED_IGNORE=1 to disable these warnings.\n",
      "  **kwargs\n"
     ]
    }
   ],
   "source": [
    "# Import libraries\n",
    "import pandas as pd\n",
    "import numpy as np\n",
    "import matplotlib.pyplot as plt\n",
    "import scipy.stats as stats\n",
    "import statsmodels.api as sm\n",
    "import seaborn as sns\n",
    "from scipy.stats import shapiro\n",
    "import statsmodels.formula.api as smf\n",
    "import scikit_posthocs as sp\n",
    "from pandas.api.types import is_numeric_dtype\n",
    "import numpy as np\n",
    "from pathlib import Path\n",
    "from scipy.io import loadmat\n",
    "from pingouin import partial_corr\n",
    "# Enable inline plotting\n",
    "%matplotlib inline"
   ]
  },
  {
   "cell_type": "code",
   "execution_count": 50,
   "id": "abe2167c",
   "metadata": {},
   "outputs": [
    {
     "name": "stderr",
     "output_type": "stream",
     "text": [
      "C:\\Users\\Angelika\\Anaconda3\\envs\\Graph\\lib\\site-packages\\ipykernel_launcher.py:2: FutureWarning: Your version of xlrd is 1.2.0. In xlrd >= 2.0, only the xls format is supported. As a result, the openpyxl engine will be used if it is installed and the engine argument is not specified. Install openpyxl instead.\n",
      "  \n"
     ]
    },
    {
     "data": {
      "text/plain": [
       "1"
      ]
     },
     "execution_count": 50,
     "metadata": {},
     "output_type": "execute_result"
    }
   ],
   "source": [
    "# Load data\n",
    "clinical_data = pd.read_excel(r\"C:/Users/Angelika/Dropbox/PhD/EXPERIMENTS/OTHER/YAS_genes_09.04.21_with_mp/Demos_for_PMcC_YAS_nfl_all.xlsx\")\n",
    "clinical_data.head(0)\n",
    "\n",
    "#connectomes = loadmat(r\"C:\\Users\\Angelika\\Dropbox\\PhD\\EXPERIMENTS\\OTHER\\YAS_genes_09.04.21_with_mp\\resultsROI_Condition001_100.mat\")"
   ]
  },
  {
   "cell_type": "code",
   "execution_count": 60,
   "id": "39c715a5",
   "metadata": {},
   "outputs": [
    {
     "data": {
      "text/plain": [
       "(114, 114)"
      ]
     },
     "execution_count": 60,
     "metadata": {},
     "output_type": "execute_result"
    }
   ],
   "source": [
    "connectomes[\"Z\"][:,:114,33].shape"
   ]
  },
  {
   "cell_type": "code",
   "execution_count": 51,
   "id": "269066e3",
   "metadata": {},
   "outputs": [],
   "source": [
    "# Sum connectivity values to create a 114 * 1 vector\n",
    "\n",
    "## Dataframe to hold all participant connectomes\n",
    "combined_connectivity = pd.DataFrame(np.zeros((114, len(clinical_data))))\n",
    "\n",
    "## Data folder for connectomes\n",
    "for i in range(len(clinical_data)):\n",
    "    # get participant id \n",
    "    participant_name = clinical_data[\"ID\"].iloc[i]\n",
    "    # get order\n",
    "    order = clinical_data[\"order\"].iloc[i] - 1 # -1 as matlab has 1 rather than 0 indexing\n",
    "    # get connectome\n",
    "    matrix = pd.DataFrame(data=connectomes[\"Z\"][:,1:,order])\n",
    "    # sum connectivity \n",
    "    sum_participant = matrix.sum(axis=1)\n",
    "    # add to output dataframe\n",
    "    combined_connectivity[i] = sum_participant\n",
    "# add participant ids and save\n",
    "combined_connectivity.columns = clinical_data[\"ID\"].values\n",
    "combined_connectivity.to_csv(\"CombinedConnectivity_114.csv\")"
   ]
  },
  {
   "cell_type": "code",
   "execution_count": 11,
   "id": "7eec17bd",
   "metadata": {},
   "outputs": [],
   "source": [
    "annot = loadmat(r\"C:/Users/Angelika/Dropbox/PhD/EXPERIMENTS/OTHER/YAS_genes_09.04.21_with_mp/nflmatcorr_114.mat\") ## load the matfile\n",
    "mat = annot[\"nflmatcorr_114\"]"
   ]
  },
  {
   "cell_type": "code",
   "execution_count": 64,
   "id": "c1c14361",
   "metadata": {},
   "outputs": [],
   "source": [
    "### Calculate spearman correlation coefficient between combined connectivity and NFL\n",
    "\n",
    "combined_connectivity = pd.read_csv(r\"C:\\Users\\Angelika\\Dropbox\\PhD\\EXPERIMENTS\\OTHER\\YAS_genes_09.04.21_with_mp\\SpherePermutations\\CombinedConnectivity_114.csv\")\n",
    "df1 = clinical_data # clinical data\n",
    "df2 = combined_connectivity.transpose() # connectivity data\n",
    "## change labels as mixedlm does not accept int as column names\n",
    "stringROIs = [str(x) for x in df2.columns]\n",
    "stringROIsNew = [\"Node_\" + item for item in stringROIs]\n",
    "df2.columns = stringROIsNew\n",
    "df2[\"ID\"] = df2.index # add participant ID\n",
    "data = pd.merge(df1, df2, on=\"ID\") # merge\n",
    "\n",
    "# Declare empty lists\n",
    "pvalues = []\n",
    "coefficients = []\n",
    "CI = []\n",
    "        \n",
    "for i in range(114):\n",
    "        Y = \"Node_\" + str(i)\n",
    "        res = partial_corr(data=data, x='NFL', y=Y, covar=['Age', 'Sex'])\n",
    "        ### Append results to empty lists\n",
    "        pvalues.append(res[\"p-val\"].iloc[0])\n",
    "        coefficients.append(res.r.iloc[0])\n",
    "        CI.append(res[\"CI95%\"].iloc[0])\n",
    "# FDR correct the p-values\n",
    "FDR = sm.stats.multipletests(pvalues, is_sorted=False, alpha=0.05, method=\"fdr_bh\", returnsorted=False)\n",
    "# Merge to Dataframe and export as csv\n",
    "outdata = pd.DataFrame(data=np.zeros((114,0))) ### for tracts\n",
    "outdata[\"ROIs\"] = stringROIsNew[:114] ### name of ROIs\n",
    "outdata[\"Coef\"] = coefficients\n",
    "outdata[\"CI\"] = CI\n",
    "outdata[\"pValues\"] = pvalues\n",
    "outdata[\"FDR\"] = FDR[1]\n",
    "outdata.to_csv(\"SumConnectivity_PartialCor_114_Functional.csv\")"
   ]
  },
  {
   "cell_type": "code",
   "execution_count": 68,
   "id": "c04bffde",
   "metadata": {},
   "outputs": [],
   "source": [
    "# ### Loop through all ROIs to calculate interaction for null models\n",
    "# ## Declare the datase\n",
    "combined_connectivity = pd.read_csv(r\"C:\\Users\\Angelika\\Dropbox\\PhD\\EXPERIMENTS\\OTHER\\YAS_genes_09.04.21_with_mp\\SpherePermutations\\CombinedConnectivity_114.csv\")\n",
    "\n",
    "df1 = clinical_data # clinical data\n",
    "df2 = combined_connectivity.transpose() # connectivity data\n",
    "## change labels as mixedlm does not accept int as column names\n",
    "stringROIs = [str(x) for x in df2.columns]\n",
    "stringROIsNew = [\"Node_\" + item for item in stringROIs]\n",
    "df2.columns = stringROIsNew\n",
    "df2[\"ID\"] = df2.index # add participant ID\n",
    "data = pd.merge(df1, df2, on=\"ID\") # merge\n",
    "\n",
    "# Declare covariates \n",
    "### note that D2 is the preHD diagnosis\n",
    "vc = {\"Age\": \"Age\", \"Sex\": \"0 + C(Sex)\"} \n",
    "# Declare empty lists\n",
    "pvalues = []\n",
    "coefficients = []\n",
    "lowerCI = []\n",
    "upperCI = []\n",
    "        \n",
    "# ### Loop through all ROIS \n",
    "for i in range(114): \n",
    "        formula = str(\"Node_\" + str(i) + \"~ NFL + C(D2) + NFL*C(D2)\")\n",
    "        md = sm.MixedLM.from_formula(formula, data, re_formula=\"1\", vc_formula=vc, groups=data[\"D2\"])\n",
    "        mdf = md.fit(method=[\"lbfgs\"])\n",
    "        ### Select the values I want from the model\n",
    "        p = mdf.pvalues[\"NFL:C(D2)[T.1]\"]\n",
    "        coef = (mdf.conf_int().loc[\"NFL:C(D2)[T.1]\"]).mean()\n",
    "        lower = (mdf.conf_int().loc[\"NFL:C(D2)[T.1]\"])[0]\n",
    "        upper = (mdf.conf_int().loc[\"NFL:C(D2)[T.1]\"])[1]\n",
    "        ### Append them to the empty lists\n",
    "        pvalues.append(p)\n",
    "        coefficients.append(coef)\n",
    "        lowerCI.append(lower)\n",
    "        upperCI.append(upper)\n",
    "# FDR correct the p-values\n",
    "FDR = sm.stats.multipletests(pvalues, is_sorted=False, alpha=0.05, method=\"fdr_bh\", returnsorted=False)\n",
    "\n",
    "# Merge to Dataframe and export as csv\n",
    "outdata = pd.DataFrame(data=np.zeros((114,0))) ### for tracts\n",
    "outdata[\"ROIs\"] = stringROIsNew[:114] ### name of ROIs\n",
    "outdata[\"Coef\"] = coefficients\n",
    "outdata[\"lowerCI\"] = lowerCI\n",
    "outdata[\"upperCI\"] = upperCI\n",
    "outdata[\"pValues\"] = pvalues\n",
    "outdata[\"FDR\"] = FDR[1]\n",
    "outdata.to_csv(\"NFLconnectivity_Interaction_114_Functional.csv\")"
   ]
  },
  {
   "cell_type": "code",
   "execution_count": 57,
   "id": "42e55b18",
   "metadata": {},
   "outputs": [],
   "source": [
    "# formula = str(\"Node_\" + str(107) + \"~ NFL + C(D2) + NFL*C(D2)\")\n",
    "# vc = {\"Age\": \"Age\"} \n",
    "# md = sm.MixedLM.from_formula(formula, data, re_formula=\"1\", vc_formula=vc, groups=data[\"D2\"])\n",
    "# mdf = md.fit(method=[\"lbfgs\"])\n",
    "# ### Select the values I want from the model\n",
    "# print(mdf.summary())"
   ]
  },
  {
   "cell_type": "code",
   "execution_count": 113,
   "id": "d385871c",
   "metadata": {},
   "outputs": [],
   "source": [
    "pvalues = np.loadtxt(\"list.txt\")\n",
    "FDR = sm.stats.multipletests(pvalues, is_sorted=False, alpha=0.05, method=\"fdr_bh\", returnsorted=False)\n",
    "np.savetxt(\"outlist.txt\", FDR[1])"
   ]
  },
  {
   "cell_type": "markdown",
   "id": "93d5a8a7",
   "metadata": {},
   "source": [
    "# PLS"
   ]
  },
  {
   "cell_type": "markdown",
   "id": "8a5efa60",
   "metadata": {},
   "source": [
    "### Perform PLS on empirical data"
   ]
  },
  {
   "cell_type": "code",
   "execution_count": 82,
   "id": "6d76f6d9",
   "metadata": {},
   "outputs": [],
   "source": [
    "### Define matrices for Low Vis Performers patients\n",
    "## define X matrix\n",
    "### load genetic expression data\n",
    "gene_data= pd.read_csv(r\"C:\\Users\\Angelika\\Dropbox\\PhD\\EXPERIMENTS\\OTHER\\YAS_genes_09.04.21_with_mp\\S114_expression_300720.csv\")\n",
    "gene_data = gene_data.fillna(0)\n",
    "gene_data = gene_data.drop(columns=\"label\")\n",
    "X = gene_data.values\n",
    "# define y matrix \n",
    "## load the NFL-group interaction dataframe\n",
    "nfl_data = pd.read_csv(r\"C:/Users/Angelika/Dropbox/PhD/EXPERIMENTS/OTHER/YAS_genes_09.04.21_with_mp/SpherePermutations/PLS/SumCon_GroupInteraction/NFLconnectivity_Interaction_114_Functional.csv\", index_col=0) # single vector\n",
    "# nfl_data = pd.read_csv(r\"C:\\Users\\Angelika\\Dropbox\\PhD\\EXPERIMENTS\\OTHER\\YAS_genes_09.04.21_with_mp\\table_rho_gt_metrics_model_groupinteraction_with_catvars.csv\")  # 4 * vectors\n",
    "\n",
    "nfl_data = pd.DataFrame(nfl_data[\"Coef\"], index=[i for i in range(114)]) # single vector\n",
    "nfl_data = nfl_data.fillna(0)\n",
    "# nfl_data = pd.DataFrame(nfl_data, index=[i for i in range(114)]) # 4 * vectors\n",
    "y = nfl_data.values\n",
    "\n",
    "# nfl_data  = pd.DataFrame(mat, index=[i for i in range(114)]) ## for matlab correlation matrix\n",
    "# nfl_data  = nfl_data .fillna(0)\n",
    "# y  = nfl_data .values"
   ]
  },
  {
   "cell_type": "code",
   "execution_count": 83,
   "id": "ff16293f",
   "metadata": {},
   "outputs": [
    {
     "name": "stdout",
     "output_type": "stream",
     "text": [
      "loo\n"
     ]
    }
   ],
   "source": [
    "import hoggorm as ho\n",
    "import hoggormplot as hop\n",
    "\n",
    "# Get the variable or columns names\n",
    "X_varNames = [\"GeneExpression\"]\n",
    "y_varNames = gene_data.columns\n",
    "# Get the object or row names\n",
    "X_objNames = list(nfl_data.index)\n",
    "y_objNames = list(nfl_data.index)\n",
    "# Apply PLS to data\n",
    "model = ho.nipalsPLS1(arrX=X, Xstand=False, \n",
    "                      vecy=y,\n",
    "                      cvType=[\"loo\"], \n",
    "                      numComp=10)"
   ]
  },
  {
   "cell_type": "code",
   "execution_count": 26,
   "id": "0e1be90d",
   "metadata": {},
   "outputs": [
    {
     "name": "stdout",
     "output_type": "stream",
     "text": [
      "loo\n"
     ]
    }
   ],
   "source": [
    "### PLS2 for multivariate data\n",
    "import hoggorm as ho\n",
    "import hoggormplot as hop\n",
    "\n",
    "# Get the variable or columns names\n",
    "X_varNames = [\"GeneExpression\"]\n",
    "y_varNames = gene_data.columns\n",
    "# Get the object or row names\n",
    "X_objNames = list(nfl_data.index)\n",
    "y_objNames = list(nfl_data.index)\n",
    "# Apply PLS to data\n",
    "model = ho.nipalsPLS2(arrX=X, Xstand=False, \n",
    "                      arrY=y, Ystand=False,\n",
    "                      cvType=[\"loo\"], \n",
    "                      numComp=10)"
   ]
  },
  {
   "cell_type": "code",
   "execution_count": 84,
   "id": "31209feb",
   "metadata": {},
   "outputs": [
    {
     "data": {
      "image/png": "[encoded data removed]",
      "text/plain": [
       "<Figure size 432x288 with 1 Axes>"
      ]
     },
     "metadata": {
      "needs_background": "light"
     },
     "output_type": "display_data"
    }
   ],
   "source": [
    "# Plot variance\n",
    "hop.plot(model, comp=[1,4], plots=[6], which=[\"Y\"],\n",
    "         objNames=X_objNames, \n",
    "         XvarNames=X_varNames)"
   ]
  },
  {
   "cell_type": "code",
   "execution_count": 86,
   "id": "fc14b0dd",
   "metadata": {},
   "outputs": [
    {
     "data": {
      "text/html": [
       "<div>\n",
       "<style scoped>\n",
       "    .dataframe tbody tr th:only-of-type {\n",
       "        vertical-align: middle;\n",
       "    }\n",
       "\n",
       "    .dataframe tbody tr th {\n",
       "        vertical-align: top;\n",
       "    }\n",
       "\n",
       "    .dataframe thead th {\n",
       "        text-align: right;\n",
       "    }\n",
       "</style>\n",
       "<table border=\"1\" class=\"dataframe\">\n",
       "  <thead>\n",
       "    <tr style=\"text-align: right;\">\n",
       "      <th></th>\n",
       "      <th>calibrated explained variance in Y</th>\n",
       "    </tr>\n",
       "  </thead>\n",
       "  <tbody>\n",
       "    <tr>\n",
       "      <th>Comp 1</th>\n",
       "      <td>24.652336</td>\n",
       "    </tr>\n",
       "    <tr>\n",
       "      <th>Comp 2</th>\n",
       "      <td>6.117580</td>\n",
       "    </tr>\n",
       "    <tr>\n",
       "      <th>Comp 3</th>\n",
       "      <td>8.857874</td>\n",
       "    </tr>\n",
       "    <tr>\n",
       "      <th>Comp 4</th>\n",
       "      <td>8.609610</td>\n",
       "    </tr>\n",
       "    <tr>\n",
       "      <th>Comp 5</th>\n",
       "      <td>10.125618</td>\n",
       "    </tr>\n",
       "    <tr>\n",
       "      <th>Comp 6</th>\n",
       "      <td>11.647503</td>\n",
       "    </tr>\n",
       "    <tr>\n",
       "      <th>Comp 7</th>\n",
       "      <td>6.867000</td>\n",
       "    </tr>\n",
       "    <tr>\n",
       "      <th>Comp 8</th>\n",
       "      <td>4.788577</td>\n",
       "    </tr>\n",
       "    <tr>\n",
       "      <th>Comp 9</th>\n",
       "      <td>4.130423</td>\n",
       "    </tr>\n",
       "    <tr>\n",
       "      <th>Comp 10</th>\n",
       "      <td>2.125497</td>\n",
       "    </tr>\n",
       "  </tbody>\n",
       "</table>\n",
       "</div>"
      ],
      "text/plain": [
       "         calibrated explained variance in Y\n",
       "Comp 1                            24.652336\n",
       "Comp 2                             6.117580\n",
       "Comp 3                             8.857874\n",
       "Comp 4                             8.609610\n",
       "Comp 5                            10.125618\n",
       "Comp 6                            11.647503\n",
       "Comp 7                             6.867000\n",
       "Comp 8                             4.788577\n",
       "Comp 9                             4.130423\n",
       "Comp 10                            2.125497"
      ]
     },
     "execution_count": 86,
     "metadata": {},
     "output_type": "execute_result"
    }
   ],
   "source": [
    "# Get calibrated explained variance of each component in Y\n",
    "Y_calExplVar = model.Y_calExplVar()\n",
    "\n",
    "# Get calibrated explained variance in Y and store in pandas dataframe with row and column names\n",
    "Y_calExplVar_df = pd.DataFrame(model.Y_calExplVar())\n",
    "Y_calExplVar_df.columns = ['calibrated explained variance in Y']\n",
    "Y_calExplVar_df.index = ['Comp {0}'.format(x+1) for x in range(model.Y_loadings().shape[1])]\n",
    "Y_calExplVar_df"
   ]
  },
  {
   "cell_type": "code",
   "execution_count": 87,
   "id": "b9b24e0b",
   "metadata": {},
   "outputs": [
    {
     "data": {
      "text/html": [
       "<div>\n",
       "<style scoped>\n",
       "    .dataframe tbody tr th:only-of-type {\n",
       "        vertical-align: middle;\n",
       "    }\n",
       "\n",
       "    .dataframe tbody tr th {\n",
       "        vertical-align: top;\n",
       "    }\n",
       "\n",
       "    .dataframe thead th {\n",
       "        text-align: right;\n",
       "    }\n",
       "</style>\n",
       "<table border=\"1\" class=\"dataframe\">\n",
       "  <thead>\n",
       "    <tr style=\"text-align: right;\">\n",
       "      <th></th>\n",
       "      <th>calibrated explained variance in X</th>\n",
       "    </tr>\n",
       "  </thead>\n",
       "  <tbody>\n",
       "    <tr>\n",
       "      <th>Comp 1</th>\n",
       "      <td>12.692848</td>\n",
       "    </tr>\n",
       "    <tr>\n",
       "      <th>Comp 2</th>\n",
       "      <td>17.448825</td>\n",
       "    </tr>\n",
       "    <tr>\n",
       "      <th>Comp 3</th>\n",
       "      <td>19.066169</td>\n",
       "    </tr>\n",
       "    <tr>\n",
       "      <th>Comp 4</th>\n",
       "      <td>18.022956</td>\n",
       "    </tr>\n",
       "    <tr>\n",
       "      <th>Comp 5</th>\n",
       "      <td>3.457340</td>\n",
       "    </tr>\n",
       "    <tr>\n",
       "      <th>Comp 6</th>\n",
       "      <td>1.729962</td>\n",
       "    </tr>\n",
       "    <tr>\n",
       "      <th>Comp 7</th>\n",
       "      <td>2.728187</td>\n",
       "    </tr>\n",
       "    <tr>\n",
       "      <th>Comp 8</th>\n",
       "      <td>2.517905</td>\n",
       "    </tr>\n",
       "    <tr>\n",
       "      <th>Comp 9</th>\n",
       "      <td>1.570499</td>\n",
       "    </tr>\n",
       "    <tr>\n",
       "      <th>Comp 10</th>\n",
       "      <td>2.330673</td>\n",
       "    </tr>\n",
       "  </tbody>\n",
       "</table>\n",
       "</div>"
      ],
      "text/plain": [
       "         calibrated explained variance in X\n",
       "Comp 1                            12.692848\n",
       "Comp 2                            17.448825\n",
       "Comp 3                            19.066169\n",
       "Comp 4                            18.022956\n",
       "Comp 5                             3.457340\n",
       "Comp 6                             1.729962\n",
       "Comp 7                             2.728187\n",
       "Comp 8                             2.517905\n",
       "Comp 9                             1.570499\n",
       "Comp 10                            2.330673"
      ]
     },
     "execution_count": 87,
     "metadata": {},
     "output_type": "execute_result"
    }
   ],
   "source": [
    "# Get calibrated explained variance of each component in X\n",
    "X_calExplVar = model.X_calExplVar()\n",
    "\n",
    "# Get calibrated explained variance in X and store in pandas dataframe with row and column names\n",
    "X_calExplVar_df = pd.DataFrame(model.X_calExplVar())\n",
    "X_calExplVar_df.columns = ['calibrated explained variance in X']\n",
    "X_calExplVar_df.index = ['Comp {0}'.format(x+1) for x in range(model.X_loadings().shape[1])]\n",
    "X_calExplVar_df"
   ]
  },
  {
   "cell_type": "code",
   "execution_count": 89,
   "id": "3ee83c47",
   "metadata": {},
   "outputs": [],
   "source": [
    "# Get X scores and store in numpy array (cortical regions)\n",
    "X_scores = model.X_scores()\n",
    "\n",
    "# Get scores and store in pandas dataframe with row and column names\n",
    "X_scores_df = pd.DataFrame(model.X_scores())\n",
    "X_scores_df.index = X_objNames\n",
    "X_scores_df.columns = ['Comp {0}'.format(x+1) for x in range(model.X_scores().shape[1])]\n",
    "X_scores_df.to_csv(\"PLS_RegionsScore_SumCon_NFLInteraction.csv\")"
   ]
  },
  {
   "cell_type": "code",
   "execution_count": 90,
   "id": "3993166e",
   "metadata": {},
   "outputs": [],
   "source": [
    "# Get X loadings and store in numpy array\n",
    "X_loadings = model.X_loadings()\n",
    "\n",
    "# Get X loadings and store in pandas dataframe with row and column names\n",
    "X_loadings_df = pd.DataFrame(model.X_loadings())\n",
    "X_loadings_df.columns = ['Comp {0}'.format(x+1) for x in range(model.X_loadings().shape[1])]\n",
    "X_loadings_df.to_csv(\"PLS_Loadings_SumCon_NFLInteraction.csv\")"
   ]
  },
  {
   "cell_type": "markdown",
   "id": "f387ca8b",
   "metadata": {},
   "source": [
    "### Perform PLS on spatially correlated nulls"
   ]
  },
  {
   "cell_type": "code",
   "execution_count": 92,
   "id": "f9f1bdec",
   "metadata": {},
   "outputs": [],
   "source": [
    "## Step 1\n",
    "\n",
    "# Perform PLS on spatially correlated maps of genes\n",
    "import hoggorm as ho\n",
    "import hoggormplot as hop\n",
    "\n",
    "### Number of ROIs and permutations\n",
    "n_roi = 114\n",
    "n_perm = 1000\n",
    "\n",
    "# Load permutations file\n",
    "permutation = pd.read_csv(r\"Permutations/permutations_Schaffer114.txt\", header = None, delimiter=\" \")\n",
    "\n",
    "### Define matrices \n",
    "# X matrix\n",
    "# gene_data= pd.read_csv(r\"C:\\Users\\Angelika\\Dropbox\\PhD\\EXPERIMENTS\\OTHER\\YAS_genes_09.04.21_with_mp\\S114_expression_300720.csv\")\n",
    "# gene_data = gene_data.fillna(0)\n",
    "# gene_data = gene_data.drop(columns=\"label\")\n",
    "# X = gene_data.values\n",
    "# define y matrix\n",
    "# nfl_data = pd.read_csv(r\"C:\\Users\\Angelika\\Dropbox\\PhD\\EXPERIMENTS\\OTHER\\YAS_genes_09.04.21_with_mp\\SpherePermutations\\NFLconnectivity_Interaction_114.csv\", index_col=0)\n",
    "# nfl_data = nfl_data.fillna(0)\n",
    "# nfl_data = pd.DataFrame(nfl_data[\"Coef\"], index=[i for i in range(114)])\n",
    "# y = nfl_data.values\n",
    "# Get the variable or columns names\n",
    "# X_varNames = [\"GeneExpression\"]\n",
    "# y_varNames = gene_data.columns\n",
    "# # Get the object or row names\n",
    "# X_objNames = list(nfl_data.index)\n",
    "# y_objNames = list(nfl_data.index)\n",
    "\n",
    "#Declare empty dataframes\n",
    "permutWeights = pd.DataFrame(data=np.zeros(len(y_varNames)))\n",
    "permutWeights.columns=[\"Empty\"]\n",
    "permutVariance = pd.DataFrame(data=np.zeros(2))\n",
    "permutVariance.columns=[\"Empty\"]\n",
    "\n",
    "for i in range(n_perm):\n",
    "    rotated_index = permutation[i] \n",
    "    perm = np.empty((n_roi,1)) # for single vector\n",
    "#     perm = np.empty((n_roi,n_roi)) # for multiple vectors\n",
    "    for j in range(n_roi):\n",
    "        perm[j] = y[(rotated_index[j] - 1)] # -1 as starting from 0\n",
    "    #Apply PLS to data\n",
    "#     model = ho.nipalsPLS1(arrX=X, Xstand=False, vecy=perm, cvType=[\"loo\"], numComp=2) # for single vector\n",
    "    model = ho.nipalsPLS2(arrX=X, Xstand=False, arrY=y, Ystand=False, cvType=[\"loo\"], numComp=2) # for multiple vectors\n",
    "    X_loadings = model.X_loadings()\n",
    "    permutWeights[str(\"Run\" + str(i))] = X_loadings[:,1] # select the second PLS component weight\n",
    "    Y_calExplVar = model.Y_calExplVar()\n",
    "    permutVariance[str(\"Run\" + str(i))] = Y_calExplVar\n",
    "permutVariance.to_csv(\"SpatialPermutVariance_114_SumCon_NFLInteraction.csv\")\n",
    "permutWeights.to_csv(\"SpatialPermutLoadings_114_SumCon_NFLInteraction.csv\")"
   ]
  },
  {
   "cell_type": "code",
   "execution_count": 94,
   "id": "f1cc115f",
   "metadata": {},
   "outputs": [],
   "source": [
    "# ### STEP 2\n",
    "# # Assess permutation testing results\n",
    "# from scipy.stats import percentileofscore\n",
    "\n",
    "# #Read the database\n",
    "# dfAll = pd.read_csv(r\"C:/Users/Angelika/Dropbox/PhD/EXPERIMENTS/OTHER/YAS_genes_09.04.21_with_mp/SpherePermutations/PLS/SumCon_GroupInteraction/SpatialPermutLoadings_114_SumCon_NFLInteraction.csv\")\n",
    "# dfAll[\"Gene_Names\"] = y_varNames\n",
    "# # # Select subset with random permutations only\n",
    "# dfPerm = dfAll\n",
    "# dfPerm = dfPerm.drop(columns=[\"Comp 1\" , \"Comp 2\"])\n",
    "# # # Calculate Z score of the permutation database\n",
    "\n",
    "# dfPerm[\"Mean\"] = dfPerm.mean(axis=1)\n",
    "# dfPerm[\"STD\"] = dfPerm.std(axis=1)\n",
    "# dfPerm[\"SE\"] = dfPerm.sem(axis=1)\n",
    "# # # Create new dataframe with mean and std of the random permutations and the actual PLS results\n",
    "# columnsPerm = [\"Mean\", \"STD\", \"SE\"]\n",
    "# dfPermResults = dfPerm[columnsPerm]\n",
    "# dfPermResults[\"PLS_Results\"] = dfAll[\"Comp 1\"]\n",
    "# dfPermResults[\"Gene_Names\"] = dfAll.Gene_Names\n",
    "# dfPermResults[\"Percentile\"] = dfPermResults[\"PLS_Results\"].apply(lambda x: percentileofscore(dfPermResults['PLS_Results'], x, kind='weak'))\n",
    "# dfPermResults[\"pValue\"] = np.zeros(len(dfAll[\"Gene_Names\"]))\n",
    "# dfPermResults[\"Z_score\"] = np.zeros(len(dfAll[\"Gene_Names\"]))\n",
    "# for i in range(len(dfAll[\"Gene_Names\"])):\n",
    "#     if dfPermResults.Percentile.iloc[i] <50:\n",
    "#         dfPermResults.pValue.iloc[i] = dfPermResults.Percentile.iloc[i] / 100\n",
    "#         dfPermResults.Z_score.iloc[i] = dfPermResults.PLS_Results.iloc[i] / dfPerm.SE.iloc[i]\n",
    "#     else:\n",
    "#         dfPermResults.pValue.iloc[i] = (100 - dfPermResults.Percentile.iloc[i]) /100\n",
    "#         dfPermResults.Z_score.iloc[i] = dfPermResults.PLS_Results.iloc[i] / dfPerm.SE.iloc[i]"
   ]
  },
  {
   "cell_type": "code",
   "execution_count": 172,
   "id": "29340841",
   "metadata": {},
   "outputs": [],
   "source": [
    "### STEP 3\n",
    "\n",
    "# FIQT correct\n",
    "from sklearn.preprocessing import QuantileTransformer\n",
    "def fiqt(z):\n",
    "    p_min = 1.00E-300\n",
    "    pvals = stats.norm.sf(abs(z))*2 # calculate p value from z score\n",
    "    for i in range(len(pvals)):\n",
    "        if pvals[i] < p_min:\n",
    "            pvals[i] = p_min\n",
    "    pvals_corrected = sm.stats.multipletests(pvals, is_sorted=False, alpha=0.05, method=\"fdr_bh\", returnsorted=False)\n",
    "    #fiqt_corrected = quantile_transform(pvals_corrected[1].reshape(-1,1))\n",
    "    return pvals_corrected[1]"
   ]
  },
  {
   "cell_type": "code",
   "execution_count": 95,
   "id": "84490ccf",
   "metadata": {},
   "outputs": [],
   "source": [
    "# dfPermResults[\"FDR\"] = fiqt(dfPermResults.Z_score)\n",
    "dfPermResults.to_csv(\"PLSresults_Comp1_114_Spatial_SumConnectivity_GroupInteraction.csv\")"
   ]
  },
  {
   "cell_type": "code",
   "execution_count": 96,
   "id": "1d64fe0c",
   "metadata": {},
   "outputs": [],
   "source": [
    "# Select results that are statistically significant\n",
    "dfPermResults = dfPermResults[dfPermResults.pValue <= 0.05]\n",
    "dfGenepos = dfPermResults[dfPermResults.PLS_Results > 0]\n",
    "dfGeneneg = dfPermResults[dfPermResults.PLS_Results < 0]\n",
    "dfGeneneg.to_csv(\"PLS_NFLInteraction_114_neg_SumConnectivity_GroupInteraction.csv\")\n",
    "dfGenepos.to_csv(\"PLS_NFLInteraction_114_pos_SumConnectivity_GroupInteraction.csv\")"
   ]
  },
  {
   "cell_type": "code",
   "execution_count": null,
   "id": "52abb19c",
   "metadata": {},
   "outputs": [],
   "source": []
  }
 ],
 "metadata": {
  "kernelspec": {
   "display_name": "Python 3",
   "language": "python",
   "name": "python3"
  },
  "language_info": {
   "codemirror_mode": {
    "name": "ipython",
    "version": 3
   },
   "file_extension": ".py",
   "mimetype": "text/x-python",
   "name": "python",
   "nbconvert_exporter": "python",
   "pygments_lexer": "ipython3",
   "version": "3.7.6"
  }
 },
 "nbformat": 4,
 "nbformat_minor": 5
}
